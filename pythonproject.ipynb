{
  "nbformat": 4,
  "nbformat_minor": 0,
  "metadata": {
    "colab": {
      "provenance": [],
      "authorship_tag": "ABX9TyOV2+U2ULrIYww5zylFlBgf",
      "include_colab_link": true
    },
    "kernelspec": {
      "name": "python3",
      "display_name": "Python 3"
    },
    "language_info": {
      "name": "python"
    }
  },
  "cells": [
    {
      "cell_type": "markdown",
      "metadata": {
        "id": "view-in-github",
        "colab_type": "text"
      },
      "source": [
        "<a href=\"https://colab.research.google.com/github/shah4702/pythoncode/blob/main/pythonproject.ipynb\" target=\"_parent\"><img src=\"https://colab.research.google.com/assets/colab-badge.svg\" alt=\"Open In Colab\"/></a>"
      ]
    },
    {
      "cell_type": "code",
      "source": [
        "def main_menu():\n",
        "  print(\"MAIN MENU\")\n",
        "  print(\"1. String Operation\")\n",
        "  print(\"2. Number Operation\")\n",
        "  print(\"3. EXIT\")\n",
        "\n",
        "\n",
        "def main():\n",
        "  while (True):\n",
        "    main_menu()\n",
        "    choice = input('\\nEnter choice(1, 2 or 3): ')\n",
        "    if choice == '1':\n",
        "      print(\"\\nThank you for choosing string operation\")\n",
        "    elif choice == '2':\n",
        "      print('\\nThank you for choosing number operation.')\n",
        "    elif choice == '3':\n",
        "      print('\\nThanks for using Switch Statements')\n",
        "      break\n",
        "    else:\n",
        "      print('\\nInvalid input!!!')\n",
        "main()"
      ],
      "metadata": {
        "colab": {
          "base_uri": "https://localhost:8080/"
        },
        "id": "B4FuBaHv7UD4",
        "outputId": "7ef83e19-3ae6-4098-9ec3-8511ab61c642"
      },
      "execution_count": 13,
      "outputs": [
        {
          "output_type": "stream",
          "name": "stdout",
          "text": [
            "MAIN MENU\n",
            "1. String Operation\n",
            "2. Number Operation\n",
            "3. EXIT\n",
            "\n",
            "Enter choice(1, 2 or 3): 1\n",
            "\n",
            "Thank you for choosing string operation\n",
            "MAIN MENU\n",
            "1. String Operation\n",
            "2. Number Operation\n",
            "3. EXIT\n",
            "\n",
            "Enter choice(1, 2 or 3): 2\n",
            "\n",
            "Thank you for choosing number operation.\n",
            "MAIN MENU\n",
            "1. String Operation\n",
            "2. Number Operation\n",
            "3. EXIT\n",
            "\n",
            "Enter choice(1, 2 or 3): 3\n",
            "\n",
            "Thanks for using Switch Statements\n"
          ]
        }
      ]
    },
    {
      "cell_type": "code",
      "source": [],
      "metadata": {
        "id": "hGyrWxNv-EFG"
      },
      "execution_count": null,
      "outputs": []
    }
  ]
}